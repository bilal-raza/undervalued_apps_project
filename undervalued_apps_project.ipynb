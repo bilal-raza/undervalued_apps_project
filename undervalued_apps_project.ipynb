{
 "cells": [
  {
   "cell_type": "markdown",
   "id": "7f55cd93",
   "metadata": {},
   "source": [
    "# $\\color{blue}{\\text{Tasks:}}$"
   ]
  },
  {
   "cell_type": "markdown",
   "id": "77609e3b",
   "metadata": {},
   "source": [
    "$\\color{green}{\\text{1. Data Cleaning }}$"
   ]
  },
  {
   "cell_type": "markdown",
   "id": "185867d5",
   "metadata": {},
   "source": [
    "$\\color{green}{\\text{2. Segregate Paid and Free Apps}}$"
   ]
  },
  {
   "cell_type": "markdown",
   "id": "7a88cfd6",
   "metadata": {},
   "source": [
    "$\\color{green}{\\text{3. Segregate Cheap and Reasonable Apps}}$"
   ]
  },
  {
   "cell_type": "markdown",
   "id": "b00212a7",
   "metadata": {},
   "source": [
    "$\\color{green}{\\text{4. Extract Undervalued Apps}}$"
   ]
  },
  {
   "cell_type": "markdown",
   "id": "bf88dc1f",
   "metadata": {},
   "source": [
    "$\\color{green}{\\text{5. Suggest Apps in which price needs to be increased}}$"
   ]
  },
  {
   "cell_type": "markdown",
   "id": "75412935",
   "metadata": {},
   "source": [
    "# $\\color{darkblue}{\\text{1. Data Cleaning}}$"
   ]
  },
  {
   "cell_type": "code",
   "execution_count": 1,
   "id": "28bc96ac",
   "metadata": {},
   "outputs": [],
   "source": [
    "import pandas as pd    # import pandas library"
   ]
  },
  {
   "cell_type": "code",
   "execution_count": 2,
   "id": "d795d81c",
   "metadata": {},
   "outputs": [],
   "source": [
    "google = pd.read_csv(\"google.csv\")    # load csv file in computer memory and asign it into a variable"
   ]
  },
  {
   "cell_type": "code",
   "execution_count": 3,
   "id": "363190b7",
   "metadata": {},
   "outputs": [
    {
     "data": {
      "text/html": [
       "<div>\n",
       "<style scoped>\n",
       "    .dataframe tbody tr th:only-of-type {\n",
       "        vertical-align: middle;\n",
       "    }\n",
       "\n",
       "    .dataframe tbody tr th {\n",
       "        vertical-align: top;\n",
       "    }\n",
       "\n",
       "    .dataframe thead th {\n",
       "        text-align: right;\n",
       "    }\n",
       "</style>\n",
       "<table border=\"1\" class=\"dataframe\">\n",
       "  <thead>\n",
       "    <tr style=\"text-align: right;\">\n",
       "      <th></th>\n",
       "      <th>App</th>\n",
       "      <th>Category</th>\n",
       "      <th>Rating</th>\n",
       "      <th>Reviews</th>\n",
       "      <th>Size</th>\n",
       "      <th>Installs</th>\n",
       "      <th>Type</th>\n",
       "      <th>Price</th>\n",
       "      <th>Content Rating</th>\n",
       "      <th>Genres</th>\n",
       "      <th>Last Updated</th>\n",
       "      <th>Current Ver</th>\n",
       "      <th>Android Ver</th>\n",
       "    </tr>\n",
       "  </thead>\n",
       "  <tbody>\n",
       "    <tr>\n",
       "      <th>0</th>\n",
       "      <td>Photo Editor &amp; Candy Camera &amp; Grid &amp; ScrapBook</td>\n",
       "      <td>ART_AND_DESIGN</td>\n",
       "      <td>4.1</td>\n",
       "      <td>159</td>\n",
       "      <td>19M</td>\n",
       "      <td>10,000+</td>\n",
       "      <td>Free</td>\n",
       "      <td>0</td>\n",
       "      <td>Everyone</td>\n",
       "      <td>Art &amp; Design</td>\n",
       "      <td>January 7, 2018</td>\n",
       "      <td>1.0.0</td>\n",
       "      <td>4.0.3 and up</td>\n",
       "    </tr>\n",
       "    <tr>\n",
       "      <th>1</th>\n",
       "      <td>Coloring book moana</td>\n",
       "      <td>ART_AND_DESIGN</td>\n",
       "      <td>3.9</td>\n",
       "      <td>967</td>\n",
       "      <td>14M</td>\n",
       "      <td>500,000+</td>\n",
       "      <td>Free</td>\n",
       "      <td>0</td>\n",
       "      <td>Everyone</td>\n",
       "      <td>Art &amp; Design;Pretend Play</td>\n",
       "      <td>January 15, 2018</td>\n",
       "      <td>2.0.0</td>\n",
       "      <td>4.0.3 and up</td>\n",
       "    </tr>\n",
       "    <tr>\n",
       "      <th>2</th>\n",
       "      <td>U Launcher Lite – FREE Live Cool Themes, Hide ...</td>\n",
       "      <td>ART_AND_DESIGN</td>\n",
       "      <td>4.7</td>\n",
       "      <td>87510</td>\n",
       "      <td>8.7M</td>\n",
       "      <td>5,000,000+</td>\n",
       "      <td>Free</td>\n",
       "      <td>0</td>\n",
       "      <td>Everyone</td>\n",
       "      <td>Art &amp; Design</td>\n",
       "      <td>August 1, 2018</td>\n",
       "      <td>1.2.4</td>\n",
       "      <td>4.0.3 and up</td>\n",
       "    </tr>\n",
       "    <tr>\n",
       "      <th>3</th>\n",
       "      <td>Sketch - Draw &amp; Paint</td>\n",
       "      <td>ART_AND_DESIGN</td>\n",
       "      <td>4.5</td>\n",
       "      <td>215644</td>\n",
       "      <td>25M</td>\n",
       "      <td>50,000,000+</td>\n",
       "      <td>Free</td>\n",
       "      <td>0</td>\n",
       "      <td>Teen</td>\n",
       "      <td>Art &amp; Design</td>\n",
       "      <td>June 8, 2018</td>\n",
       "      <td>Varies with device</td>\n",
       "      <td>4.2 and up</td>\n",
       "    </tr>\n",
       "    <tr>\n",
       "      <th>4</th>\n",
       "      <td>Pixel Draw - Number Art Coloring Book</td>\n",
       "      <td>ART_AND_DESIGN</td>\n",
       "      <td>4.3</td>\n",
       "      <td>967</td>\n",
       "      <td>2.8M</td>\n",
       "      <td>100,000+</td>\n",
       "      <td>Free</td>\n",
       "      <td>0</td>\n",
       "      <td>Everyone</td>\n",
       "      <td>Art &amp; Design;Creativity</td>\n",
       "      <td>June 20, 2018</td>\n",
       "      <td>1.1</td>\n",
       "      <td>4.4 and up</td>\n",
       "    </tr>\n",
       "  </tbody>\n",
       "</table>\n",
       "</div>"
      ],
      "text/plain": [
       "                                                 App        Category  Rating  \\\n",
       "0     Photo Editor & Candy Camera & Grid & ScrapBook  ART_AND_DESIGN     4.1   \n",
       "1                                Coloring book moana  ART_AND_DESIGN     3.9   \n",
       "2  U Launcher Lite – FREE Live Cool Themes, Hide ...  ART_AND_DESIGN     4.7   \n",
       "3                              Sketch - Draw & Paint  ART_AND_DESIGN     4.5   \n",
       "4              Pixel Draw - Number Art Coloring Book  ART_AND_DESIGN     4.3   \n",
       "\n",
       "  Reviews  Size     Installs  Type Price Content Rating  \\\n",
       "0     159   19M      10,000+  Free     0       Everyone   \n",
       "1     967   14M     500,000+  Free     0       Everyone   \n",
       "2   87510  8.7M   5,000,000+  Free     0       Everyone   \n",
       "3  215644   25M  50,000,000+  Free     0           Teen   \n",
       "4     967  2.8M     100,000+  Free     0       Everyone   \n",
       "\n",
       "                      Genres      Last Updated         Current Ver  \\\n",
       "0               Art & Design   January 7, 2018               1.0.0   \n",
       "1  Art & Design;Pretend Play  January 15, 2018               2.0.0   \n",
       "2               Art & Design    August 1, 2018               1.2.4   \n",
       "3               Art & Design      June 8, 2018  Varies with device   \n",
       "4    Art & Design;Creativity     June 20, 2018                 1.1   \n",
       "\n",
       "    Android Ver  \n",
       "0  4.0.3 and up  \n",
       "1  4.0.3 and up  \n",
       "2  4.0.3 and up  \n",
       "3    4.2 and up  \n",
       "4    4.4 and up  "
      ]
     },
     "execution_count": 3,
     "metadata": {},
     "output_type": "execute_result"
    }
   ],
   "source": [
    "google.head()    # use head function for a casual look at the data"
   ]
  },
  {
   "cell_type": "code",
   "execution_count": 4,
   "id": "541c5e40",
   "metadata": {},
   "outputs": [
    {
     "data": {
      "text/plain": [
       "(10841, 13)"
      ]
     },
     "execution_count": 4,
     "metadata": {},
     "output_type": "execute_result"
    }
   ],
   "source": [
    "google.shape    # shape to check the no. of rows and columns"
   ]
  },
  {
   "cell_type": "code",
   "execution_count": 5,
   "id": "97dcbe01",
   "metadata": {},
   "outputs": [
    {
     "name": "stdout",
     "output_type": "stream",
     "text": [
      "<class 'pandas.core.frame.DataFrame'>\n",
      "RangeIndex: 10841 entries, 0 to 10840\n",
      "Data columns (total 13 columns):\n",
      " #   Column          Non-Null Count  Dtype  \n",
      "---  ------          --------------  -----  \n",
      " 0   App             10841 non-null  object \n",
      " 1   Category        10841 non-null  object \n",
      " 2   Rating          9367 non-null   float64\n",
      " 3   Reviews         10841 non-null  object \n",
      " 4   Size            10841 non-null  object \n",
      " 5   Installs        10841 non-null  object \n",
      " 6   Type            10840 non-null  object \n",
      " 7   Price           10841 non-null  object \n",
      " 8   Content Rating  10840 non-null  object \n",
      " 9   Genres          10841 non-null  object \n",
      " 10  Last Updated    10841 non-null  object \n",
      " 11  Current Ver     10833 non-null  object \n",
      " 12  Android Ver     10838 non-null  object \n",
      "dtypes: float64(1), object(12)\n",
      "memory usage: 1.1+ MB\n"
     ]
    }
   ],
   "source": [
    "google.info()    # see the summary including data types of each column"
   ]
  },
  {
   "cell_type": "code",
   "execution_count": 6,
   "id": "c8d618cf",
   "metadata": {},
   "outputs": [
    {
     "data": {
      "text/plain": [
       "App                  0\n",
       "Category             0\n",
       "Rating            1474\n",
       "Reviews              0\n",
       "Size                 0\n",
       "Installs             0\n",
       "Type                 1\n",
       "Price                0\n",
       "Content Rating       1\n",
       "Genres               0\n",
       "Last Updated         0\n",
       "Current Ver          8\n",
       "Android Ver          3\n",
       "dtype: int64"
      ]
     },
     "execution_count": 6,
     "metadata": {},
     "output_type": "execute_result"
    }
   ],
   "source": [
    "google.isnull().sum()    # see the null values in the data"
   ]
  },
  {
   "cell_type": "code",
   "execution_count": 7,
   "id": "2638931c",
   "metadata": {},
   "outputs": [],
   "source": [
    "google.fillna(\"NaN\", inplace = True)    # fill missing values with NaN and update data"
   ]
  },
  {
   "cell_type": "code",
   "execution_count": 8,
   "id": "98233ea4",
   "metadata": {},
   "outputs": [
    {
     "data": {
      "text/plain": [
       "App               0\n",
       "Category          0\n",
       "Rating            0\n",
       "Reviews           0\n",
       "Size              0\n",
       "Installs          0\n",
       "Type              0\n",
       "Price             0\n",
       "Content Rating    0\n",
       "Genres            0\n",
       "Last Updated      0\n",
       "Current Ver       0\n",
       "Android Ver       0\n",
       "dtype: int64"
      ]
     },
     "execution_count": 8,
     "metadata": {},
     "output_type": "execute_result"
    }
   ],
   "source": [
    "google.isnull().sum()    # all missing values converted to NaN"
   ]
  },
  {
   "cell_type": "code",
   "execution_count": 9,
   "id": "425afc6b",
   "metadata": {},
   "outputs": [
    {
     "data": {
      "text/plain": [
       "array(['Free', 'Paid', 'NaN', '0'], dtype=object)"
      ]
     },
     "execution_count": 9,
     "metadata": {},
     "output_type": "execute_result"
    }
   ],
   "source": [
    "google.Type.unique()   # check the unique values in column \"Type\""
   ]
  },
  {
   "cell_type": "code",
   "execution_count": 10,
   "id": "9e590a19",
   "metadata": {},
   "outputs": [
    {
     "data": {
      "text/plain": [
       "1"
      ]
     },
     "execution_count": 10,
     "metadata": {},
     "output_type": "execute_result"
    }
   ],
   "source": [
    "(google.Type == \"0\").sum()    # check how many rows are their with Type \"0\""
   ]
  },
  {
   "cell_type": "code",
   "execution_count": 11,
   "id": "33376294",
   "metadata": {},
   "outputs": [
    {
     "data": {
      "text/html": [
       "<div>\n",
       "<style scoped>\n",
       "    .dataframe tbody tr th:only-of-type {\n",
       "        vertical-align: middle;\n",
       "    }\n",
       "\n",
       "    .dataframe tbody tr th {\n",
       "        vertical-align: top;\n",
       "    }\n",
       "\n",
       "    .dataframe thead th {\n",
       "        text-align: right;\n",
       "    }\n",
       "</style>\n",
       "<table border=\"1\" class=\"dataframe\">\n",
       "  <thead>\n",
       "    <tr style=\"text-align: right;\">\n",
       "      <th></th>\n",
       "      <th>App</th>\n",
       "      <th>Category</th>\n",
       "      <th>Rating</th>\n",
       "      <th>Reviews</th>\n",
       "      <th>Size</th>\n",
       "      <th>Installs</th>\n",
       "      <th>Type</th>\n",
       "      <th>Price</th>\n",
       "      <th>Content Rating</th>\n",
       "      <th>Genres</th>\n",
       "      <th>Last Updated</th>\n",
       "      <th>Current Ver</th>\n",
       "      <th>Android Ver</th>\n",
       "    </tr>\n",
       "  </thead>\n",
       "  <tbody>\n",
       "    <tr>\n",
       "      <th>10472</th>\n",
       "      <td>Life Made WI-Fi Touchscreen Photo Frame</td>\n",
       "      <td>1.9</td>\n",
       "      <td>19.0</td>\n",
       "      <td>3.0M</td>\n",
       "      <td>1,000+</td>\n",
       "      <td>Free</td>\n",
       "      <td>0</td>\n",
       "      <td>Everyone</td>\n",
       "      <td>NaN</td>\n",
       "      <td>February 11, 2018</td>\n",
       "      <td>1.0.19</td>\n",
       "      <td>4.0 and up</td>\n",
       "      <td>NaN</td>\n",
       "    </tr>\n",
       "  </tbody>\n",
       "</table>\n",
       "</div>"
      ],
      "text/plain": [
       "                                           App Category Rating Reviews  \\\n",
       "10472  Life Made WI-Fi Touchscreen Photo Frame      1.9   19.0    3.0M   \n",
       "\n",
       "         Size Installs Type     Price Content Rating             Genres  \\\n",
       "10472  1,000+     Free    0  Everyone            NaN  February 11, 2018   \n",
       "\n",
       "      Last Updated Current Ver Android Ver  \n",
       "10472       1.0.19  4.0 and up         NaN  "
      ]
     },
     "execution_count": 11,
     "metadata": {},
     "output_type": "execute_result"
    }
   ],
   "source": [
    "google[google.Type == \"0\"] # extract that one row to see the error"
   ]
  },
  {
   "cell_type": "code",
   "execution_count": 12,
   "id": "23f3a415",
   "metadata": {},
   "outputs": [
    {
     "data": {
      "text/html": [
       "<div>\n",
       "<style scoped>\n",
       "    .dataframe tbody tr th:only-of-type {\n",
       "        vertical-align: middle;\n",
       "    }\n",
       "\n",
       "    .dataframe tbody tr th {\n",
       "        vertical-align: top;\n",
       "    }\n",
       "\n",
       "    .dataframe thead th {\n",
       "        text-align: right;\n",
       "    }\n",
       "</style>\n",
       "<table border=\"1\" class=\"dataframe\">\n",
       "  <thead>\n",
       "    <tr style=\"text-align: right;\">\n",
       "      <th></th>\n",
       "      <th>App</th>\n",
       "      <th>Category</th>\n",
       "      <th>Rating</th>\n",
       "      <th>Reviews</th>\n",
       "      <th>Size</th>\n",
       "      <th>Installs</th>\n",
       "      <th>Type</th>\n",
       "      <th>Price</th>\n",
       "      <th>Content Rating</th>\n",
       "      <th>Genres</th>\n",
       "      <th>Last Updated</th>\n",
       "      <th>Current Ver</th>\n",
       "      <th>Android Ver</th>\n",
       "    </tr>\n",
       "  </thead>\n",
       "  <tbody>\n",
       "    <tr>\n",
       "      <th>10472</th>\n",
       "      <td>Life Made WI-Fi Touchscreen Photo Frame</td>\n",
       "      <td>1.9</td>\n",
       "      <td>19.0</td>\n",
       "      <td>3.0M</td>\n",
       "      <td>1,000+</td>\n",
       "      <td>Free</td>\n",
       "      <td>0</td>\n",
       "      <td>Everyone</td>\n",
       "      <td>NaN</td>\n",
       "      <td>February 11, 2018</td>\n",
       "      <td>1.0.19</td>\n",
       "      <td>4.0 and up</td>\n",
       "      <td>NaN</td>\n",
       "    </tr>\n",
       "    <tr>\n",
       "      <th>10473</th>\n",
       "      <td>osmino Wi-Fi: free WiFi</td>\n",
       "      <td>TOOLS</td>\n",
       "      <td>4.2</td>\n",
       "      <td>134203</td>\n",
       "      <td>4.1M</td>\n",
       "      <td>10,000,000+</td>\n",
       "      <td>Free</td>\n",
       "      <td>0</td>\n",
       "      <td>Everyone</td>\n",
       "      <td>Tools</td>\n",
       "      <td>August 7, 2018</td>\n",
       "      <td>6.06.14</td>\n",
       "      <td>4.4 and up</td>\n",
       "    </tr>\n",
       "  </tbody>\n",
       "</table>\n",
       "</div>"
      ],
      "text/plain": [
       "                                           App Category Rating Reviews  \\\n",
       "10472  Life Made WI-Fi Touchscreen Photo Frame      1.9   19.0    3.0M   \n",
       "10473                  osmino Wi-Fi: free WiFi    TOOLS    4.2  134203   \n",
       "\n",
       "         Size     Installs  Type     Price Content Rating             Genres  \\\n",
       "10472  1,000+         Free     0  Everyone            NaN  February 11, 2018   \n",
       "10473    4.1M  10,000,000+  Free         0       Everyone              Tools   \n",
       "\n",
       "         Last Updated Current Ver Android Ver  \n",
       "10472          1.0.19  4.0 and up         NaN  \n",
       "10473  August 7, 2018     6.06.14  4.4 and up  "
      ]
     },
     "execution_count": 12,
     "metadata": {},
     "output_type": "execute_result"
    }
   ],
   "source": [
    "google.loc[[10472,10473]]    # see other lines data to match with the wrong one"
   ]
  },
  {
   "cell_type": "code",
   "execution_count": 13,
   "id": "b2ee0fbc",
   "metadata": {},
   "outputs": [
    {
     "data": {
      "text/plain": [
       "1"
      ]
     },
     "execution_count": 13,
     "metadata": {},
     "output_type": "execute_result"
    }
   ],
   "source": [
    "(google.Type == \"NaN\").sum()    ## check how many rows are their with Type \"NaN\""
   ]
  },
  {
   "cell_type": "code",
   "execution_count": 14,
   "id": "c3715705",
   "metadata": {},
   "outputs": [
    {
     "data": {
      "text/html": [
       "<div>\n",
       "<style scoped>\n",
       "    .dataframe tbody tr th:only-of-type {\n",
       "        vertical-align: middle;\n",
       "    }\n",
       "\n",
       "    .dataframe tbody tr th {\n",
       "        vertical-align: top;\n",
       "    }\n",
       "\n",
       "    .dataframe thead th {\n",
       "        text-align: right;\n",
       "    }\n",
       "</style>\n",
       "<table border=\"1\" class=\"dataframe\">\n",
       "  <thead>\n",
       "    <tr style=\"text-align: right;\">\n",
       "      <th></th>\n",
       "      <th>App</th>\n",
       "      <th>Category</th>\n",
       "      <th>Rating</th>\n",
       "      <th>Reviews</th>\n",
       "      <th>Size</th>\n",
       "      <th>Installs</th>\n",
       "      <th>Type</th>\n",
       "      <th>Price</th>\n",
       "      <th>Content Rating</th>\n",
       "      <th>Genres</th>\n",
       "      <th>Last Updated</th>\n",
       "      <th>Current Ver</th>\n",
       "      <th>Android Ver</th>\n",
       "    </tr>\n",
       "  </thead>\n",
       "  <tbody>\n",
       "    <tr>\n",
       "      <th>9148</th>\n",
       "      <td>Command &amp; Conquer: Rivals</td>\n",
       "      <td>FAMILY</td>\n",
       "      <td>NaN</td>\n",
       "      <td>0</td>\n",
       "      <td>Varies with device</td>\n",
       "      <td>0</td>\n",
       "      <td>NaN</td>\n",
       "      <td>0</td>\n",
       "      <td>Everyone 10+</td>\n",
       "      <td>Strategy</td>\n",
       "      <td>June 28, 2018</td>\n",
       "      <td>Varies with device</td>\n",
       "      <td>Varies with device</td>\n",
       "    </tr>\n",
       "  </tbody>\n",
       "</table>\n",
       "</div>"
      ],
      "text/plain": [
       "                            App Category Rating Reviews                Size  \\\n",
       "9148  Command & Conquer: Rivals   FAMILY    NaN       0  Varies with device   \n",
       "\n",
       "     Installs Type Price Content Rating    Genres   Last Updated  \\\n",
       "9148        0  NaN     0   Everyone 10+  Strategy  June 28, 2018   \n",
       "\n",
       "             Current Ver         Android Ver  \n",
       "9148  Varies with device  Varies with device  "
      ]
     },
     "execution_count": 14,
     "metadata": {},
     "output_type": "execute_result"
    }
   ],
   "source": [
    "google[google.Type == \"NaN\"]   # extract that one row to see the error"
   ]
  },
  {
   "cell_type": "markdown",
   "id": "fe4c9b1e",
   "metadata": {},
   "source": [
    "# $\\color{darkblue}{\\text{2. Segregate Paid and Free Apps}}$"
   ]
  },
  {
   "cell_type": "code",
   "execution_count": 15,
   "id": "2ec27c09",
   "metadata": {},
   "outputs": [
    {
     "data": {
      "text/plain": [
       "array(['Free', 'Paid', 'NaN', '0'], dtype=object)"
      ]
     },
     "execution_count": 15,
     "metadata": {},
     "output_type": "execute_result"
    }
   ],
   "source": [
    "google.Type.unique()   # unique values in column \"Type\""
   ]
  },
  {
   "cell_type": "markdown",
   "id": "626cfd1b",
   "metadata": {},
   "source": [
    "$\\color{green}{\\text{We are currently just working on paid apps to fulfill the provided tasks.}}$"
   ]
  },
  {
   "cell_type": "code",
   "execution_count": 16,
   "id": "8f8e773a",
   "metadata": {},
   "outputs": [],
   "source": [
    "paid_apps = google[google.Type == \"Paid\"].copy()    # extract paid apps from the data and store into a variable"
   ]
  },
  {
   "cell_type": "code",
   "execution_count": 17,
   "id": "a6f89c94",
   "metadata": {},
   "outputs": [
    {
     "data": {
      "text/html": [
       "<div>\n",
       "<style scoped>\n",
       "    .dataframe tbody tr th:only-of-type {\n",
       "        vertical-align: middle;\n",
       "    }\n",
       "\n",
       "    .dataframe tbody tr th {\n",
       "        vertical-align: top;\n",
       "    }\n",
       "\n",
       "    .dataframe thead th {\n",
       "        text-align: right;\n",
       "    }\n",
       "</style>\n",
       "<table border=\"1\" class=\"dataframe\">\n",
       "  <thead>\n",
       "    <tr style=\"text-align: right;\">\n",
       "      <th></th>\n",
       "      <th>App</th>\n",
       "      <th>Category</th>\n",
       "      <th>Rating</th>\n",
       "      <th>Reviews</th>\n",
       "      <th>Size</th>\n",
       "      <th>Installs</th>\n",
       "      <th>Type</th>\n",
       "      <th>Price</th>\n",
       "      <th>Content Rating</th>\n",
       "      <th>Genres</th>\n",
       "      <th>Last Updated</th>\n",
       "      <th>Current Ver</th>\n",
       "      <th>Android Ver</th>\n",
       "    </tr>\n",
       "  </thead>\n",
       "  <tbody>\n",
       "    <tr>\n",
       "      <th>234</th>\n",
       "      <td>TurboScan: scan documents and receipts in PDF</td>\n",
       "      <td>BUSINESS</td>\n",
       "      <td>4.7</td>\n",
       "      <td>11442</td>\n",
       "      <td>6.8M</td>\n",
       "      <td>100,000+</td>\n",
       "      <td>Paid</td>\n",
       "      <td>$4.99</td>\n",
       "      <td>Everyone</td>\n",
       "      <td>Business</td>\n",
       "      <td>March 25, 2018</td>\n",
       "      <td>1.5.2</td>\n",
       "      <td>4.0 and up</td>\n",
       "    </tr>\n",
       "    <tr>\n",
       "      <th>235</th>\n",
       "      <td>Tiny Scanner Pro: PDF Doc Scan</td>\n",
       "      <td>BUSINESS</td>\n",
       "      <td>4.8</td>\n",
       "      <td>10295</td>\n",
       "      <td>39M</td>\n",
       "      <td>100,000+</td>\n",
       "      <td>Paid</td>\n",
       "      <td>$4.99</td>\n",
       "      <td>Everyone</td>\n",
       "      <td>Business</td>\n",
       "      <td>April 11, 2017</td>\n",
       "      <td>3.4.6</td>\n",
       "      <td>3.0 and up</td>\n",
       "    </tr>\n",
       "    <tr>\n",
       "      <th>290</th>\n",
       "      <td>TurboScan: scan documents and receipts in PDF</td>\n",
       "      <td>BUSINESS</td>\n",
       "      <td>4.7</td>\n",
       "      <td>11442</td>\n",
       "      <td>6.8M</td>\n",
       "      <td>100,000+</td>\n",
       "      <td>Paid</td>\n",
       "      <td>$4.99</td>\n",
       "      <td>Everyone</td>\n",
       "      <td>Business</td>\n",
       "      <td>March 25, 2018</td>\n",
       "      <td>1.5.2</td>\n",
       "      <td>4.0 and up</td>\n",
       "    </tr>\n",
       "    <tr>\n",
       "      <th>291</th>\n",
       "      <td>Tiny Scanner Pro: PDF Doc Scan</td>\n",
       "      <td>BUSINESS</td>\n",
       "      <td>4.8</td>\n",
       "      <td>10295</td>\n",
       "      <td>39M</td>\n",
       "      <td>100,000+</td>\n",
       "      <td>Paid</td>\n",
       "      <td>$4.99</td>\n",
       "      <td>Everyone</td>\n",
       "      <td>Business</td>\n",
       "      <td>April 11, 2017</td>\n",
       "      <td>3.4.6</td>\n",
       "      <td>3.0 and up</td>\n",
       "    </tr>\n",
       "    <tr>\n",
       "      <th>427</th>\n",
       "      <td>Puffin Browser Pro</td>\n",
       "      <td>COMMUNICATION</td>\n",
       "      <td>4.0</td>\n",
       "      <td>18247</td>\n",
       "      <td>Varies with device</td>\n",
       "      <td>100,000+</td>\n",
       "      <td>Paid</td>\n",
       "      <td>$3.99</td>\n",
       "      <td>Everyone</td>\n",
       "      <td>Communication</td>\n",
       "      <td>July 5, 2018</td>\n",
       "      <td>7.5.3.20547</td>\n",
       "      <td>4.1 and up</td>\n",
       "    </tr>\n",
       "  </tbody>\n",
       "</table>\n",
       "</div>"
      ],
      "text/plain": [
       "                                               App       Category Rating  \\\n",
       "234  TurboScan: scan documents and receipts in PDF       BUSINESS    4.7   \n",
       "235                 Tiny Scanner Pro: PDF Doc Scan       BUSINESS    4.8   \n",
       "290  TurboScan: scan documents and receipts in PDF       BUSINESS    4.7   \n",
       "291                 Tiny Scanner Pro: PDF Doc Scan       BUSINESS    4.8   \n",
       "427                             Puffin Browser Pro  COMMUNICATION    4.0   \n",
       "\n",
       "    Reviews                Size  Installs  Type  Price Content Rating  \\\n",
       "234   11442                6.8M  100,000+  Paid  $4.99       Everyone   \n",
       "235   10295                 39M  100,000+  Paid  $4.99       Everyone   \n",
       "290   11442                6.8M  100,000+  Paid  $4.99       Everyone   \n",
       "291   10295                 39M  100,000+  Paid  $4.99       Everyone   \n",
       "427   18247  Varies with device  100,000+  Paid  $3.99       Everyone   \n",
       "\n",
       "            Genres    Last Updated  Current Ver Android Ver  \n",
       "234       Business  March 25, 2018        1.5.2  4.0 and up  \n",
       "235       Business  April 11, 2017        3.4.6  3.0 and up  \n",
       "290       Business  March 25, 2018        1.5.2  4.0 and up  \n",
       "291       Business  April 11, 2017        3.4.6  3.0 and up  \n",
       "427  Communication    July 5, 2018  7.5.3.20547  4.1 and up  "
      ]
     },
     "execution_count": 17,
     "metadata": {},
     "output_type": "execute_result"
    }
   ],
   "source": [
    "paid_apps.head()    # glimpse of the data stored in paid_apps variable"
   ]
  },
  {
   "cell_type": "code",
   "execution_count": 18,
   "id": "1602a6f2",
   "metadata": {},
   "outputs": [
    {
     "name": "stdout",
     "output_type": "stream",
     "text": [
      "<class 'pandas.core.frame.DataFrame'>\n",
      "Int64Index: 800 entries, 234 to 10798\n",
      "Data columns (total 13 columns):\n",
      " #   Column          Non-Null Count  Dtype \n",
      "---  ------          --------------  ----- \n",
      " 0   App             800 non-null    object\n",
      " 1   Category        800 non-null    object\n",
      " 2   Rating          800 non-null    object\n",
      " 3   Reviews         800 non-null    object\n",
      " 4   Size            800 non-null    object\n",
      " 5   Installs        800 non-null    object\n",
      " 6   Type            800 non-null    object\n",
      " 7   Price           800 non-null    object\n",
      " 8   Content Rating  800 non-null    object\n",
      " 9   Genres          800 non-null    object\n",
      " 10  Last Updated    800 non-null    object\n",
      " 11  Current Ver     800 non-null    object\n",
      " 12  Android Ver     800 non-null    object\n",
      "dtypes: object(13)\n",
      "memory usage: 87.5+ KB\n"
     ]
    }
   ],
   "source": [
    "paid_apps.info()    # summary of the data"
   ]
  },
  {
   "cell_type": "code",
   "execution_count": 19,
   "id": "c15eaf9f",
   "metadata": {},
   "outputs": [],
   "source": [
    "paid_apps.reset_index(drop = True, inplace = True)    # reset index"
   ]
  },
  {
   "cell_type": "code",
   "execution_count": 20,
   "id": "cbb2952d",
   "metadata": {},
   "outputs": [
    {
     "name": "stdout",
     "output_type": "stream",
     "text": [
      "<class 'pandas.core.frame.DataFrame'>\n",
      "RangeIndex: 800 entries, 0 to 799\n",
      "Data columns (total 13 columns):\n",
      " #   Column          Non-Null Count  Dtype \n",
      "---  ------          --------------  ----- \n",
      " 0   App             800 non-null    object\n",
      " 1   Category        800 non-null    object\n",
      " 2   Rating          800 non-null    object\n",
      " 3   Reviews         800 non-null    object\n",
      " 4   Size            800 non-null    object\n",
      " 5   Installs        800 non-null    object\n",
      " 6   Type            800 non-null    object\n",
      " 7   Price           800 non-null    object\n",
      " 8   Content Rating  800 non-null    object\n",
      " 9   Genres          800 non-null    object\n",
      " 10  Last Updated    800 non-null    object\n",
      " 11  Current Ver     800 non-null    object\n",
      " 12  Android Ver     800 non-null    object\n",
      "dtypes: object(13)\n",
      "memory usage: 81.4+ KB\n"
     ]
    }
   ],
   "source": [
    "paid_apps.info()    # revised summary of the data"
   ]
  },
  {
   "cell_type": "code",
   "execution_count": 21,
   "id": "98f949ad",
   "metadata": {},
   "outputs": [
    {
     "data": {
      "text/plain": [
       "array(['$4.99', '$3.99', '$6.99', '$1.49', '$2.99', '$7.99', '$5.99',\n",
       "       '$3.49', '$1.99', '$9.99', '$7.49', '$0.99', '$9.00', '$5.49',\n",
       "       '$10.00', '$24.99', '$11.99', '$79.99', '$16.99', '$14.99',\n",
       "       '$1.00', '$29.99', '$12.99', '$2.49', '$10.99', '$1.50', '$19.99',\n",
       "       '$15.99', '$33.99', '$74.99', '$39.99', '$3.95', '$4.49', '$1.70',\n",
       "       '$8.99', '$2.00', '$3.88', '$25.99', '$399.99', '$17.99',\n",
       "       '$400.00', '$3.02', '$1.76', '$4.84', '$4.77', '$1.61', '$2.50',\n",
       "       '$1.59', '$6.49', '$1.29', '$5.00', '$13.99', '$299.99', '$379.99',\n",
       "       '$37.99', '$18.99', '$389.99', '$19.90', '$8.49', '$1.75',\n",
       "       '$14.00', '$4.85', '$46.99', '$109.99', '$154.99', '$3.08',\n",
       "       '$2.59', '$4.80', '$1.96', '$19.40', '$3.90', '$4.59', '$15.46',\n",
       "       '$3.04', '$4.29', '$2.60', '$3.28', '$4.60', '$28.99', '$2.95',\n",
       "       '$2.90', '$1.97', '$200.00', '$89.99', '$2.56', '$30.99', '$3.61',\n",
       "       '$394.99', '$1.26', '$1.20', '$1.04'], dtype=object)"
      ]
     },
     "execution_count": 21,
     "metadata": {},
     "output_type": "execute_result"
    }
   ],
   "source": [
    "paid_apps.Price.unique()    # check the unique values in price column"
   ]
  },
  {
   "cell_type": "code",
   "execution_count": 22,
   "id": "54b8d5c5",
   "metadata": {},
   "outputs": [
    {
     "data": {
      "text/plain": [
       "array(['Paid'], dtype=object)"
      ]
     },
     "execution_count": 22,
     "metadata": {},
     "output_type": "execute_result"
    }
   ],
   "source": [
    "paid_apps.Type.unique()   # check the unique values in type column"
   ]
  },
  {
   "cell_type": "code",
   "execution_count": 23,
   "id": "efcb3c0c",
   "metadata": {},
   "outputs": [],
   "source": [
    "paid_apps[\"Price\"] = paid_apps[\"Price\"].str.strip(\"$\").astype(float)  # remove $ sign from the data"
   ]
  },
  {
   "cell_type": "code",
   "execution_count": 24,
   "id": "6580f11e",
   "metadata": {},
   "outputs": [
    {
     "data": {
      "text/plain": [
       "0       4.99\n",
       "1       4.99\n",
       "2       4.99\n",
       "3       4.99\n",
       "4       3.99\n",
       "       ...  \n",
       "795     0.99\n",
       "796     7.99\n",
       "797    16.99\n",
       "798     1.20\n",
       "799     1.04\n",
       "Name: Price, Length: 800, dtype: float64"
      ]
     },
     "execution_count": 24,
     "metadata": {},
     "output_type": "execute_result"
    }
   ],
   "source": [
    "paid_apps.Price    # $ sign removed"
   ]
  },
  {
   "cell_type": "code",
   "execution_count": 25,
   "id": "9581b85e",
   "metadata": {},
   "outputs": [],
   "source": [
    "import matplotlib.pyplot as plt   # import library to visualize Price data on graph"
   ]
  },
  {
   "cell_type": "code",
   "execution_count": 26,
   "id": "44dbb59d",
   "metadata": {},
   "outputs": [
    {
     "data": {
      "image/png": "[encoded data removed]",
      "text/plain": [
       "<Figure size 864x288 with 1 Axes>"
      ]
     },
     "metadata": {},
     "output_type": "display_data"
    }
   ],
   "source": [
    "fig,ax = plt.subplots(figsize = (12,4), facecolor = \"lightblue\")\n",
    "paid_apps[\"Price\"].hist(ax = ax, color=\"orange\", ec = \"black\")\n",
    "ax.grid(False)\n",
    "plt.xlabel(\"Price\", fontsize=15, color = \"black\")\n",
    "plt.ylabel(\"No. of apps\", fontsize=15, color = \"black\")\n",
    "plt.title(\"No of Apps wrt to Price\", fontsize=20, color = \"black\")\n",
    "plt.xticks(fontsize=10, color = \"black\")\n",
    "plt.yticks(fontsize=10, color = \"black\")\n",
    "plt.ylim(-30)\n",
    "plt.show()"
   ]
  },
  {
   "cell_type": "markdown",
   "id": "df858872",
   "metadata": {},
   "source": [
    "$\\color{red}{\\text{Remove Outliers}}$"
   ]
  },
  {
   "cell_type": "code",
   "execution_count": 27,
   "id": "8a52095b",
   "metadata": {},
   "outputs": [],
   "source": [
    "paid = paid_apps[paid_apps[\"Price\"]< 50].copy()  # outliers removed"
   ]
  },
  {
   "cell_type": "code",
   "execution_count": 28,
   "id": "524467bc",
   "metadata": {},
   "outputs": [
    {
     "name": "stdout",
     "output_type": "stream",
     "text": [
      "<class 'pandas.core.frame.DataFrame'>\n",
      "Int64Index: 776 entries, 0 to 799\n",
      "Data columns (total 13 columns):\n",
      " #   Column          Non-Null Count  Dtype  \n",
      "---  ------          --------------  -----  \n",
      " 0   App             776 non-null    object \n",
      " 1   Category        776 non-null    object \n",
      " 2   Rating          776 non-null    object \n",
      " 3   Reviews         776 non-null    object \n",
      " 4   Size            776 non-null    object \n",
      " 5   Installs        776 non-null    object \n",
      " 6   Type            776 non-null    object \n",
      " 7   Price           776 non-null    float64\n",
      " 8   Content Rating  776 non-null    object \n",
      " 9   Genres          776 non-null    object \n",
      " 10  Last Updated    776 non-null    object \n",
      " 11  Current Ver     776 non-null    object \n",
      " 12  Android Ver     776 non-null    object \n",
      "dtypes: float64(1), object(12)\n",
      "memory usage: 84.9+ KB\n"
     ]
    }
   ],
   "source": [
    "paid.info()"
   ]
  },
  {
   "cell_type": "code",
   "execution_count": 29,
   "id": "32da84f1",
   "metadata": {},
   "outputs": [],
   "source": [
    "paid.reset_index(drop = True, inplace = True)    # reset index"
   ]
  },
  {
   "cell_type": "code",
   "execution_count": 30,
   "id": "424dc478",
   "metadata": {},
   "outputs": [
    {
     "name": "stdout",
     "output_type": "stream",
     "text": [
      "<class 'pandas.core.frame.DataFrame'>\n",
      "RangeIndex: 776 entries, 0 to 775\n",
      "Data columns (total 13 columns):\n",
      " #   Column          Non-Null Count  Dtype  \n",
      "---  ------          --------------  -----  \n",
      " 0   App             776 non-null    object \n",
      " 1   Category        776 non-null    object \n",
      " 2   Rating          776 non-null    object \n",
      " 3   Reviews         776 non-null    object \n",
      " 4   Size            776 non-null    object \n",
      " 5   Installs        776 non-null    object \n",
      " 6   Type            776 non-null    object \n",
      " 7   Price           776 non-null    float64\n",
      " 8   Content Rating  776 non-null    object \n",
      " 9   Genres          776 non-null    object \n",
      " 10  Last Updated    776 non-null    object \n",
      " 11  Current Ver     776 non-null    object \n",
      " 12  Android Ver     776 non-null    object \n",
      "dtypes: float64(1), object(12)\n",
      "memory usage: 78.9+ KB\n"
     ]
    }
   ],
   "source": [
    "paid.info()"
   ]
  },
  {
   "cell_type": "code",
   "execution_count": 31,
   "id": "5bf714c4",
   "metadata": {},
   "outputs": [
    {
     "data": {
      "image/png": "[encoded data removed]",
      "text/plain": [
       "<Figure size 864x288 with 1 Axes>"
      ]
     },
     "metadata": {},
     "output_type": "display_data"
    }
   ],
   "source": [
    "fig,ax = plt.subplots(figsize = (12,4), facecolor = \"lightblue\")\n",
    "paid[\"Price\"].hist(ax = ax, color=\"orange\", ec = \"black\")\n",
    "ax.grid(False)\n",
    "plt.xlabel(\"Price\", fontsize=15, color = \"black\")\n",
    "plt.ylabel(\"No. of apps\", fontsize=15, color = \"black\")\n",
    "plt.title(\"No of Apps wrt to Price\", fontsize=20, color = \"black\")\n",
    "plt.xticks(fontsize=10, color = \"black\")\n",
    "plt.yticks(fontsize=10, color = \"black\")\n",
    "plt.ylim(-30)\n",
    "plt.show()"
   ]
  },
  {
   "cell_type": "code",
   "execution_count": 32,
   "id": "5309fbd9",
   "metadata": {},
   "outputs": [
    {
     "data": {
      "text/plain": [
       "(0.943, 5.59]     621\n",
       "(5.59, 10.19]      90\n",
       "(14.79, 19.39]     19\n",
       "(10.19, 14.79]     15\n",
       "(28.59, 33.19]      9\n",
       "(19.39, 23.99]      8\n",
       "(23.99, 28.59]      8\n",
       "(37.79, 42.39]      3\n",
       "(33.19, 37.79]      2\n",
       "(42.39, 46.99]      1\n",
       "Name: Price, dtype: int64"
      ]
     },
     "execution_count": 32,
     "metadata": {},
     "output_type": "execute_result"
    }
   ],
   "source": [
    "paid.Price.value_counts(bins = 10)"
   ]
  },
  {
   "cell_type": "markdown",
   "id": "b763cbf6",
   "metadata": {},
   "source": [
    "$\\color{darkblue}{\\text{3. Segregate Cheap and Reasonable Apps}}$"
   ]
  },
  {
   "cell_type": "code",
   "execution_count": 33,
   "id": "e436f373",
   "metadata": {},
   "outputs": [
    {
     "data": {
      "text/plain": [
       "Index(['App', 'Category', 'Rating', 'Reviews', 'Size', 'Installs', 'Type',\n",
       "       'Price', 'Content Rating', 'Genres', 'Last Updated', 'Current Ver',\n",
       "       'Android Ver'],\n",
       "      dtype='object')"
      ]
     },
     "execution_count": 33,
     "metadata": {},
     "output_type": "execute_result"
    }
   ],
   "source": [
    "paid.columns   # to show all columns"
   ]
  },
  {
   "cell_type": "code",
   "execution_count": 34,
   "id": "9aab5061",
   "metadata": {},
   "outputs": [],
   "source": [
    "paid = paid[['App', 'Category', 'Rating', 'Reviews', 'Size', 'Installs', 'Type','Price']]  # drop irrelevant columns"
   ]
  },
  {
   "cell_type": "code",
   "execution_count": 35,
   "id": "66e1d960",
   "metadata": {},
   "outputs": [],
   "source": [
    "paid[\"Price_Category\"] = 0   # add new column in the existing data"
   ]
  },
  {
   "cell_type": "code",
   "execution_count": 36,
   "id": "0ae6761c",
   "metadata": {},
   "outputs": [
    {
     "data": {
      "text/html": [
       "<div>\n",
       "<style scoped>\n",
       "    .dataframe tbody tr th:only-of-type {\n",
       "        vertical-align: middle;\n",
       "    }\n",
       "\n",
       "    .dataframe tbody tr th {\n",
       "        vertical-align: top;\n",
       "    }\n",
       "\n",
       "    .dataframe thead th {\n",
       "        text-align: right;\n",
       "    }\n",
       "</style>\n",
       "<table border=\"1\" class=\"dataframe\">\n",
       "  <thead>\n",
       "    <tr style=\"text-align: right;\">\n",
       "      <th></th>\n",
       "      <th>App</th>\n",
       "      <th>Category</th>\n",
       "      <th>Rating</th>\n",
       "      <th>Reviews</th>\n",
       "      <th>Size</th>\n",
       "      <th>Installs</th>\n",
       "      <th>Type</th>\n",
       "      <th>Price</th>\n",
       "      <th>Price_Category</th>\n",
       "    </tr>\n",
       "  </thead>\n",
       "  <tbody>\n",
       "    <tr>\n",
       "      <th>0</th>\n",
       "      <td>TurboScan: scan documents and receipts in PDF</td>\n",
       "      <td>BUSINESS</td>\n",
       "      <td>4.7</td>\n",
       "      <td>11442</td>\n",
       "      <td>6.8M</td>\n",
       "      <td>100,000+</td>\n",
       "      <td>Paid</td>\n",
       "      <td>4.99</td>\n",
       "      <td>0</td>\n",
       "    </tr>\n",
       "    <tr>\n",
       "      <th>1</th>\n",
       "      <td>Tiny Scanner Pro: PDF Doc Scan</td>\n",
       "      <td>BUSINESS</td>\n",
       "      <td>4.8</td>\n",
       "      <td>10295</td>\n",
       "      <td>39M</td>\n",
       "      <td>100,000+</td>\n",
       "      <td>Paid</td>\n",
       "      <td>4.99</td>\n",
       "      <td>0</td>\n",
       "    </tr>\n",
       "    <tr>\n",
       "      <th>2</th>\n",
       "      <td>TurboScan: scan documents and receipts in PDF</td>\n",
       "      <td>BUSINESS</td>\n",
       "      <td>4.7</td>\n",
       "      <td>11442</td>\n",
       "      <td>6.8M</td>\n",
       "      <td>100,000+</td>\n",
       "      <td>Paid</td>\n",
       "      <td>4.99</td>\n",
       "      <td>0</td>\n",
       "    </tr>\n",
       "    <tr>\n",
       "      <th>3</th>\n",
       "      <td>Tiny Scanner Pro: PDF Doc Scan</td>\n",
       "      <td>BUSINESS</td>\n",
       "      <td>4.8</td>\n",
       "      <td>10295</td>\n",
       "      <td>39M</td>\n",
       "      <td>100,000+</td>\n",
       "      <td>Paid</td>\n",
       "      <td>4.99</td>\n",
       "      <td>0</td>\n",
       "    </tr>\n",
       "    <tr>\n",
       "      <th>4</th>\n",
       "      <td>Puffin Browser Pro</td>\n",
       "      <td>COMMUNICATION</td>\n",
       "      <td>4.0</td>\n",
       "      <td>18247</td>\n",
       "      <td>Varies with device</td>\n",
       "      <td>100,000+</td>\n",
       "      <td>Paid</td>\n",
       "      <td>3.99</td>\n",
       "      <td>0</td>\n",
       "    </tr>\n",
       "    <tr>\n",
       "      <th>...</th>\n",
       "      <td>...</td>\n",
       "      <td>...</td>\n",
       "      <td>...</td>\n",
       "      <td>...</td>\n",
       "      <td>...</td>\n",
       "      <td>...</td>\n",
       "      <td>...</td>\n",
       "      <td>...</td>\n",
       "      <td>...</td>\n",
       "    </tr>\n",
       "    <tr>\n",
       "      <th>771</th>\n",
       "      <td>FP VoiceBot</td>\n",
       "      <td>FAMILY</td>\n",
       "      <td>NaN</td>\n",
       "      <td>17</td>\n",
       "      <td>157k</td>\n",
       "      <td>100+</td>\n",
       "      <td>Paid</td>\n",
       "      <td>0.99</td>\n",
       "      <td>0</td>\n",
       "    </tr>\n",
       "    <tr>\n",
       "      <th>772</th>\n",
       "      <td>Fast Tract Diet</td>\n",
       "      <td>HEALTH_AND_FITNESS</td>\n",
       "      <td>4.4</td>\n",
       "      <td>35</td>\n",
       "      <td>2.4M</td>\n",
       "      <td>1,000+</td>\n",
       "      <td>Paid</td>\n",
       "      <td>7.99</td>\n",
       "      <td>0</td>\n",
       "    </tr>\n",
       "    <tr>\n",
       "      <th>773</th>\n",
       "      <td>Trine 2: Complete Story</td>\n",
       "      <td>GAME</td>\n",
       "      <td>3.8</td>\n",
       "      <td>252</td>\n",
       "      <td>11M</td>\n",
       "      <td>10,000+</td>\n",
       "      <td>Paid</td>\n",
       "      <td>16.99</td>\n",
       "      <td>0</td>\n",
       "    </tr>\n",
       "    <tr>\n",
       "      <th>774</th>\n",
       "      <td>sugar, sugar</td>\n",
       "      <td>FAMILY</td>\n",
       "      <td>4.2</td>\n",
       "      <td>1405</td>\n",
       "      <td>9.5M</td>\n",
       "      <td>10,000+</td>\n",
       "      <td>Paid</td>\n",
       "      <td>1.20</td>\n",
       "      <td>0</td>\n",
       "    </tr>\n",
       "    <tr>\n",
       "      <th>775</th>\n",
       "      <td>Word Search Tab 1 FR</td>\n",
       "      <td>FAMILY</td>\n",
       "      <td>NaN</td>\n",
       "      <td>0</td>\n",
       "      <td>1020k</td>\n",
       "      <td>50+</td>\n",
       "      <td>Paid</td>\n",
       "      <td>1.04</td>\n",
       "      <td>0</td>\n",
       "    </tr>\n",
       "  </tbody>\n",
       "</table>\n",
       "<p>776 rows × 9 columns</p>\n",
       "</div>"
      ],
      "text/plain": [
       "                                               App            Category Rating  \\\n",
       "0    TurboScan: scan documents and receipts in PDF            BUSINESS    4.7   \n",
       "1                   Tiny Scanner Pro: PDF Doc Scan            BUSINESS    4.8   \n",
       "2    TurboScan: scan documents and receipts in PDF            BUSINESS    4.7   \n",
       "3                   Tiny Scanner Pro: PDF Doc Scan            BUSINESS    4.8   \n",
       "4                               Puffin Browser Pro       COMMUNICATION    4.0   \n",
       "..                                             ...                 ...    ...   \n",
       "771                                    FP VoiceBot              FAMILY    NaN   \n",
       "772                                Fast Tract Diet  HEALTH_AND_FITNESS    4.4   \n",
       "773                        Trine 2: Complete Story                GAME    3.8   \n",
       "774                                   sugar, sugar              FAMILY    4.2   \n",
       "775                           Word Search Tab 1 FR              FAMILY    NaN   \n",
       "\n",
       "    Reviews                Size  Installs  Type  Price  Price_Category  \n",
       "0     11442                6.8M  100,000+  Paid   4.99               0  \n",
       "1     10295                 39M  100,000+  Paid   4.99               0  \n",
       "2     11442                6.8M  100,000+  Paid   4.99               0  \n",
       "3     10295                 39M  100,000+  Paid   4.99               0  \n",
       "4     18247  Varies with device  100,000+  Paid   3.99               0  \n",
       "..      ...                 ...       ...   ...    ...             ...  \n",
       "771      17                157k      100+  Paid   0.99               0  \n",
       "772      35                2.4M    1,000+  Paid   7.99               0  \n",
       "773     252                 11M   10,000+  Paid  16.99               0  \n",
       "774    1405                9.5M   10,000+  Paid   1.20               0  \n",
       "775       0               1020k       50+  Paid   1.04               0  \n",
       "\n",
       "[776 rows x 9 columns]"
      ]
     },
     "execution_count": 36,
     "metadata": {},
     "output_type": "execute_result"
    }
   ],
   "source": [
    "paid"
   ]
  },
  {
   "cell_type": "code",
   "execution_count": 37,
   "id": "7cad706c",
   "metadata": {},
   "outputs": [],
   "source": [
    "def Price_Category(price):    # function to assign values \n",
    "    if price < 5:\n",
    "        return \"Cheap\"\n",
    "    else:\n",
    "        return \"Reasonable\""
   ]
  },
  {
   "cell_type": "code",
   "execution_count": 38,
   "id": "7ebcb04a",
   "metadata": {},
   "outputs": [],
   "source": [
    "paid[\"Price_Category\"] = paid.Price.apply(Price_Category)   # apply function to the original data"
   ]
  },
  {
   "cell_type": "code",
   "execution_count": 39,
   "id": "ca53a3aa",
   "metadata": {},
   "outputs": [
    {
     "data": {
      "text/html": [
       "<div>\n",
       "<style scoped>\n",
       "    .dataframe tbody tr th:only-of-type {\n",
       "        vertical-align: middle;\n",
       "    }\n",
       "\n",
       "    .dataframe tbody tr th {\n",
       "        vertical-align: top;\n",
       "    }\n",
       "\n",
       "    .dataframe thead th {\n",
       "        text-align: right;\n",
       "    }\n",
       "</style>\n",
       "<table border=\"1\" class=\"dataframe\">\n",
       "  <thead>\n",
       "    <tr style=\"text-align: right;\">\n",
       "      <th></th>\n",
       "      <th>App</th>\n",
       "      <th>Category</th>\n",
       "      <th>Rating</th>\n",
       "      <th>Reviews</th>\n",
       "      <th>Size</th>\n",
       "      <th>Installs</th>\n",
       "      <th>Type</th>\n",
       "      <th>Price</th>\n",
       "      <th>Price_Category</th>\n",
       "    </tr>\n",
       "  </thead>\n",
       "  <tbody>\n",
       "    <tr>\n",
       "      <th>0</th>\n",
       "      <td>TurboScan: scan documents and receipts in PDF</td>\n",
       "      <td>BUSINESS</td>\n",
       "      <td>4.7</td>\n",
       "      <td>11442</td>\n",
       "      <td>6.8M</td>\n",
       "      <td>100,000+</td>\n",
       "      <td>Paid</td>\n",
       "      <td>4.99</td>\n",
       "      <td>Cheap</td>\n",
       "    </tr>\n",
       "    <tr>\n",
       "      <th>1</th>\n",
       "      <td>Tiny Scanner Pro: PDF Doc Scan</td>\n",
       "      <td>BUSINESS</td>\n",
       "      <td>4.8</td>\n",
       "      <td>10295</td>\n",
       "      <td>39M</td>\n",
       "      <td>100,000+</td>\n",
       "      <td>Paid</td>\n",
       "      <td>4.99</td>\n",
       "      <td>Cheap</td>\n",
       "    </tr>\n",
       "    <tr>\n",
       "      <th>2</th>\n",
       "      <td>TurboScan: scan documents and receipts in PDF</td>\n",
       "      <td>BUSINESS</td>\n",
       "      <td>4.7</td>\n",
       "      <td>11442</td>\n",
       "      <td>6.8M</td>\n",
       "      <td>100,000+</td>\n",
       "      <td>Paid</td>\n",
       "      <td>4.99</td>\n",
       "      <td>Cheap</td>\n",
       "    </tr>\n",
       "    <tr>\n",
       "      <th>3</th>\n",
       "      <td>Tiny Scanner Pro: PDF Doc Scan</td>\n",
       "      <td>BUSINESS</td>\n",
       "      <td>4.8</td>\n",
       "      <td>10295</td>\n",
       "      <td>39M</td>\n",
       "      <td>100,000+</td>\n",
       "      <td>Paid</td>\n",
       "      <td>4.99</td>\n",
       "      <td>Cheap</td>\n",
       "    </tr>\n",
       "    <tr>\n",
       "      <th>4</th>\n",
       "      <td>Puffin Browser Pro</td>\n",
       "      <td>COMMUNICATION</td>\n",
       "      <td>4.0</td>\n",
       "      <td>18247</td>\n",
       "      <td>Varies with device</td>\n",
       "      <td>100,000+</td>\n",
       "      <td>Paid</td>\n",
       "      <td>3.99</td>\n",
       "      <td>Cheap</td>\n",
       "    </tr>\n",
       "    <tr>\n",
       "      <th>...</th>\n",
       "      <td>...</td>\n",
       "      <td>...</td>\n",
       "      <td>...</td>\n",
       "      <td>...</td>\n",
       "      <td>...</td>\n",
       "      <td>...</td>\n",
       "      <td>...</td>\n",
       "      <td>...</td>\n",
       "      <td>...</td>\n",
       "    </tr>\n",
       "    <tr>\n",
       "      <th>771</th>\n",
       "      <td>FP VoiceBot</td>\n",
       "      <td>FAMILY</td>\n",
       "      <td>NaN</td>\n",
       "      <td>17</td>\n",
       "      <td>157k</td>\n",
       "      <td>100+</td>\n",
       "      <td>Paid</td>\n",
       "      <td>0.99</td>\n",
       "      <td>Cheap</td>\n",
       "    </tr>\n",
       "    <tr>\n",
       "      <th>772</th>\n",
       "      <td>Fast Tract Diet</td>\n",
       "      <td>HEALTH_AND_FITNESS</td>\n",
       "      <td>4.4</td>\n",
       "      <td>35</td>\n",
       "      <td>2.4M</td>\n",
       "      <td>1,000+</td>\n",
       "      <td>Paid</td>\n",
       "      <td>7.99</td>\n",
       "      <td>Reasonable</td>\n",
       "    </tr>\n",
       "    <tr>\n",
       "      <th>773</th>\n",
       "      <td>Trine 2: Complete Story</td>\n",
       "      <td>GAME</td>\n",
       "      <td>3.8</td>\n",
       "      <td>252</td>\n",
       "      <td>11M</td>\n",
       "      <td>10,000+</td>\n",
       "      <td>Paid</td>\n",
       "      <td>16.99</td>\n",
       "      <td>Reasonable</td>\n",
       "    </tr>\n",
       "    <tr>\n",
       "      <th>774</th>\n",
       "      <td>sugar, sugar</td>\n",
       "      <td>FAMILY</td>\n",
       "      <td>4.2</td>\n",
       "      <td>1405</td>\n",
       "      <td>9.5M</td>\n",
       "      <td>10,000+</td>\n",
       "      <td>Paid</td>\n",
       "      <td>1.20</td>\n",
       "      <td>Cheap</td>\n",
       "    </tr>\n",
       "    <tr>\n",
       "      <th>775</th>\n",
       "      <td>Word Search Tab 1 FR</td>\n",
       "      <td>FAMILY</td>\n",
       "      <td>NaN</td>\n",
       "      <td>0</td>\n",
       "      <td>1020k</td>\n",
       "      <td>50+</td>\n",
       "      <td>Paid</td>\n",
       "      <td>1.04</td>\n",
       "      <td>Cheap</td>\n",
       "    </tr>\n",
       "  </tbody>\n",
       "</table>\n",
       "<p>776 rows × 9 columns</p>\n",
       "</div>"
      ],
      "text/plain": [
       "                                               App            Category Rating  \\\n",
       "0    TurboScan: scan documents and receipts in PDF            BUSINESS    4.7   \n",
       "1                   Tiny Scanner Pro: PDF Doc Scan            BUSINESS    4.8   \n",
       "2    TurboScan: scan documents and receipts in PDF            BUSINESS    4.7   \n",
       "3                   Tiny Scanner Pro: PDF Doc Scan            BUSINESS    4.8   \n",
       "4                               Puffin Browser Pro       COMMUNICATION    4.0   \n",
       "..                                             ...                 ...    ...   \n",
       "771                                    FP VoiceBot              FAMILY    NaN   \n",
       "772                                Fast Tract Diet  HEALTH_AND_FITNESS    4.4   \n",
       "773                        Trine 2: Complete Story                GAME    3.8   \n",
       "774                                   sugar, sugar              FAMILY    4.2   \n",
       "775                           Word Search Tab 1 FR              FAMILY    NaN   \n",
       "\n",
       "    Reviews                Size  Installs  Type  Price Price_Category  \n",
       "0     11442                6.8M  100,000+  Paid   4.99          Cheap  \n",
       "1     10295                 39M  100,000+  Paid   4.99          Cheap  \n",
       "2     11442                6.8M  100,000+  Paid   4.99          Cheap  \n",
       "3     10295                 39M  100,000+  Paid   4.99          Cheap  \n",
       "4     18247  Varies with device  100,000+  Paid   3.99          Cheap  \n",
       "..      ...                 ...       ...   ...    ...            ...  \n",
       "771      17                157k      100+  Paid   0.99          Cheap  \n",
       "772      35                2.4M    1,000+  Paid   7.99     Reasonable  \n",
       "773     252                 11M   10,000+  Paid  16.99     Reasonable  \n",
       "774    1405                9.5M   10,000+  Paid   1.20          Cheap  \n",
       "775       0               1020k       50+  Paid   1.04          Cheap  \n",
       "\n",
       "[776 rows x 9 columns]"
      ]
     },
     "execution_count": 39,
     "metadata": {},
     "output_type": "execute_result"
    }
   ],
   "source": [
    "paid"
   ]
  },
  {
   "cell_type": "code",
   "execution_count": 40,
   "id": "bae9792b",
   "metadata": {},
   "outputs": [
    {
     "data": {
      "text/plain": [
       "Cheap         614\n",
       "Reasonable    162\n",
       "Name: Price_Category, dtype: int64"
      ]
     },
     "execution_count": 40,
     "metadata": {},
     "output_type": "execute_result"
    }
   ],
   "source": [
    "paid.Price_Category.value_counts()   # check counts of each Price_Category"
   ]
  },
  {
   "cell_type": "markdown",
   "id": "1af5f14f",
   "metadata": {},
   "source": [
    "$\\color{darkblue}{\\text{4. Extract Undervalued Apps}}$"
   ]
  },
  {
   "cell_type": "code",
   "execution_count": 41,
   "id": "0a453cb8",
   "metadata": {},
   "outputs": [],
   "source": [
    "mean_values = paid.groupby(\"Price_Category\")[\"Price\"].mean()  # check mean value"
   ]
  },
  {
   "cell_type": "code",
   "execution_count": 42,
   "id": "bad06a18",
   "metadata": {},
   "outputs": [
    {
     "data": {
      "text/plain": [
       "Price_Category\n",
       "Cheap          2.599593\n",
       "Reasonable    12.874938\n",
       "Name: Price, dtype: float64"
      ]
     },
     "execution_count": 42,
     "metadata": {},
     "output_type": "execute_result"
    }
   ],
   "source": [
    "mean_values # mean values of Price_Category"
   ]
  },
  {
   "cell_type": "code",
   "execution_count": 43,
   "id": "f41469b8",
   "metadata": {},
   "outputs": [],
   "source": [
    "paid[\"Suggestion\"] = 0   # create new column as Suggestion"
   ]
  },
  {
   "cell_type": "code",
   "execution_count": 44,
   "id": "3fdac69a",
   "metadata": {},
   "outputs": [
    {
     "data": {
      "text/html": [
       "<div>\n",
       "<style scoped>\n",
       "    .dataframe tbody tr th:only-of-type {\n",
       "        vertical-align: middle;\n",
       "    }\n",
       "\n",
       "    .dataframe tbody tr th {\n",
       "        vertical-align: top;\n",
       "    }\n",
       "\n",
       "    .dataframe thead th {\n",
       "        text-align: right;\n",
       "    }\n",
       "</style>\n",
       "<table border=\"1\" class=\"dataframe\">\n",
       "  <thead>\n",
       "    <tr style=\"text-align: right;\">\n",
       "      <th></th>\n",
       "      <th>App</th>\n",
       "      <th>Category</th>\n",
       "      <th>Rating</th>\n",
       "      <th>Reviews</th>\n",
       "      <th>Size</th>\n",
       "      <th>Installs</th>\n",
       "      <th>Type</th>\n",
       "      <th>Price</th>\n",
       "      <th>Price_Category</th>\n",
       "      <th>Suggestion</th>\n",
       "    </tr>\n",
       "  </thead>\n",
       "  <tbody>\n",
       "    <tr>\n",
       "      <th>0</th>\n",
       "      <td>TurboScan: scan documents and receipts in PDF</td>\n",
       "      <td>BUSINESS</td>\n",
       "      <td>4.7</td>\n",
       "      <td>11442</td>\n",
       "      <td>6.8M</td>\n",
       "      <td>100,000+</td>\n",
       "      <td>Paid</td>\n",
       "      <td>4.99</td>\n",
       "      <td>Cheap</td>\n",
       "      <td>0</td>\n",
       "    </tr>\n",
       "    <tr>\n",
       "      <th>1</th>\n",
       "      <td>Tiny Scanner Pro: PDF Doc Scan</td>\n",
       "      <td>BUSINESS</td>\n",
       "      <td>4.8</td>\n",
       "      <td>10295</td>\n",
       "      <td>39M</td>\n",
       "      <td>100,000+</td>\n",
       "      <td>Paid</td>\n",
       "      <td>4.99</td>\n",
       "      <td>Cheap</td>\n",
       "      <td>0</td>\n",
       "    </tr>\n",
       "    <tr>\n",
       "      <th>2</th>\n",
       "      <td>TurboScan: scan documents and receipts in PDF</td>\n",
       "      <td>BUSINESS</td>\n",
       "      <td>4.7</td>\n",
       "      <td>11442</td>\n",
       "      <td>6.8M</td>\n",
       "      <td>100,000+</td>\n",
       "      <td>Paid</td>\n",
       "      <td>4.99</td>\n",
       "      <td>Cheap</td>\n",
       "      <td>0</td>\n",
       "    </tr>\n",
       "    <tr>\n",
       "      <th>3</th>\n",
       "      <td>Tiny Scanner Pro: PDF Doc Scan</td>\n",
       "      <td>BUSINESS</td>\n",
       "      <td>4.8</td>\n",
       "      <td>10295</td>\n",
       "      <td>39M</td>\n",
       "      <td>100,000+</td>\n",
       "      <td>Paid</td>\n",
       "      <td>4.99</td>\n",
       "      <td>Cheap</td>\n",
       "      <td>0</td>\n",
       "    </tr>\n",
       "    <tr>\n",
       "      <th>4</th>\n",
       "      <td>Puffin Browser Pro</td>\n",
       "      <td>COMMUNICATION</td>\n",
       "      <td>4.0</td>\n",
       "      <td>18247</td>\n",
       "      <td>Varies with device</td>\n",
       "      <td>100,000+</td>\n",
       "      <td>Paid</td>\n",
       "      <td>3.99</td>\n",
       "      <td>Cheap</td>\n",
       "      <td>0</td>\n",
       "    </tr>\n",
       "    <tr>\n",
       "      <th>...</th>\n",
       "      <td>...</td>\n",
       "      <td>...</td>\n",
       "      <td>...</td>\n",
       "      <td>...</td>\n",
       "      <td>...</td>\n",
       "      <td>...</td>\n",
       "      <td>...</td>\n",
       "      <td>...</td>\n",
       "      <td>...</td>\n",
       "      <td>...</td>\n",
       "    </tr>\n",
       "    <tr>\n",
       "      <th>771</th>\n",
       "      <td>FP VoiceBot</td>\n",
       "      <td>FAMILY</td>\n",
       "      <td>NaN</td>\n",
       "      <td>17</td>\n",
       "      <td>157k</td>\n",
       "      <td>100+</td>\n",
       "      <td>Paid</td>\n",
       "      <td>0.99</td>\n",
       "      <td>Cheap</td>\n",
       "      <td>0</td>\n",
       "    </tr>\n",
       "    <tr>\n",
       "      <th>772</th>\n",
       "      <td>Fast Tract Diet</td>\n",
       "      <td>HEALTH_AND_FITNESS</td>\n",
       "      <td>4.4</td>\n",
       "      <td>35</td>\n",
       "      <td>2.4M</td>\n",
       "      <td>1,000+</td>\n",
       "      <td>Paid</td>\n",
       "      <td>7.99</td>\n",
       "      <td>Reasonable</td>\n",
       "      <td>0</td>\n",
       "    </tr>\n",
       "    <tr>\n",
       "      <th>773</th>\n",
       "      <td>Trine 2: Complete Story</td>\n",
       "      <td>GAME</td>\n",
       "      <td>3.8</td>\n",
       "      <td>252</td>\n",
       "      <td>11M</td>\n",
       "      <td>10,000+</td>\n",
       "      <td>Paid</td>\n",
       "      <td>16.99</td>\n",
       "      <td>Reasonable</td>\n",
       "      <td>0</td>\n",
       "    </tr>\n",
       "    <tr>\n",
       "      <th>774</th>\n",
       "      <td>sugar, sugar</td>\n",
       "      <td>FAMILY</td>\n",
       "      <td>4.2</td>\n",
       "      <td>1405</td>\n",
       "      <td>9.5M</td>\n",
       "      <td>10,000+</td>\n",
       "      <td>Paid</td>\n",
       "      <td>1.20</td>\n",
       "      <td>Cheap</td>\n",
       "      <td>0</td>\n",
       "    </tr>\n",
       "    <tr>\n",
       "      <th>775</th>\n",
       "      <td>Word Search Tab 1 FR</td>\n",
       "      <td>FAMILY</td>\n",
       "      <td>NaN</td>\n",
       "      <td>0</td>\n",
       "      <td>1020k</td>\n",
       "      <td>50+</td>\n",
       "      <td>Paid</td>\n",
       "      <td>1.04</td>\n",
       "      <td>Cheap</td>\n",
       "      <td>0</td>\n",
       "    </tr>\n",
       "  </tbody>\n",
       "</table>\n",
       "<p>776 rows × 10 columns</p>\n",
       "</div>"
      ],
      "text/plain": [
       "                                               App            Category Rating  \\\n",
       "0    TurboScan: scan documents and receipts in PDF            BUSINESS    4.7   \n",
       "1                   Tiny Scanner Pro: PDF Doc Scan            BUSINESS    4.8   \n",
       "2    TurboScan: scan documents and receipts in PDF            BUSINESS    4.7   \n",
       "3                   Tiny Scanner Pro: PDF Doc Scan            BUSINESS    4.8   \n",
       "4                               Puffin Browser Pro       COMMUNICATION    4.0   \n",
       "..                                             ...                 ...    ...   \n",
       "771                                    FP VoiceBot              FAMILY    NaN   \n",
       "772                                Fast Tract Diet  HEALTH_AND_FITNESS    4.4   \n",
       "773                        Trine 2: Complete Story                GAME    3.8   \n",
       "774                                   sugar, sugar              FAMILY    4.2   \n",
       "775                           Word Search Tab 1 FR              FAMILY    NaN   \n",
       "\n",
       "    Reviews                Size  Installs  Type  Price Price_Category  \\\n",
       "0     11442                6.8M  100,000+  Paid   4.99          Cheap   \n",
       "1     10295                 39M  100,000+  Paid   4.99          Cheap   \n",
       "2     11442                6.8M  100,000+  Paid   4.99          Cheap   \n",
       "3     10295                 39M  100,000+  Paid   4.99          Cheap   \n",
       "4     18247  Varies with device  100,000+  Paid   3.99          Cheap   \n",
       "..      ...                 ...       ...   ...    ...            ...   \n",
       "771      17                157k      100+  Paid   0.99          Cheap   \n",
       "772      35                2.4M    1,000+  Paid   7.99     Reasonable   \n",
       "773     252                 11M   10,000+  Paid  16.99     Reasonable   \n",
       "774    1405                9.5M   10,000+  Paid   1.20          Cheap   \n",
       "775       0               1020k       50+  Paid   1.04          Cheap   \n",
       "\n",
       "     Suggestion  \n",
       "0             0  \n",
       "1             0  \n",
       "2             0  \n",
       "3             0  \n",
       "4             0  \n",
       "..          ...  \n",
       "771           0  \n",
       "772           0  \n",
       "773           0  \n",
       "774           0  \n",
       "775           0  \n",
       "\n",
       "[776 rows x 10 columns]"
      ]
     },
     "execution_count": 44,
     "metadata": {},
     "output_type": "execute_result"
    }
   ],
   "source": [
    "paid"
   ]
  },
  {
   "cell_type": "code",
   "execution_count": 45,
   "id": "8e9eaa55",
   "metadata": {},
   "outputs": [],
   "source": [
    "def Suggestion(x):           # function to check whether price needs to be increase or not\n",
    "    y = x['Price_Category']\n",
    "    z = x[\"Price\"]\n",
    "    if y == \"Cheap\":\n",
    "        if z < mean_values[0]:\n",
    "            return \"Increase\"\n",
    "        else: \n",
    "            return \"No Impact\"\n",
    "    elif y == \"Reasonable\":\n",
    "        if z < mean_values[1]:\n",
    "            return \"Increase\"\n",
    "        else:\n",
    "            return \"No Impact\""
   ]
  },
  {
   "cell_type": "code",
   "execution_count": 46,
   "id": "cb3b1269",
   "metadata": {},
   "outputs": [],
   "source": [
    "paid[\"Suggestion\"] = paid.apply(Suggestion, axis = 1) # apply function"
   ]
  },
  {
   "cell_type": "code",
   "execution_count": 47,
   "id": "f2d1e4cc",
   "metadata": {},
   "outputs": [
    {
     "data": {
      "text/html": [
       "<div>\n",
       "<style scoped>\n",
       "    .dataframe tbody tr th:only-of-type {\n",
       "        vertical-align: middle;\n",
       "    }\n",
       "\n",
       "    .dataframe tbody tr th {\n",
       "        vertical-align: top;\n",
       "    }\n",
       "\n",
       "    .dataframe thead th {\n",
       "        text-align: right;\n",
       "    }\n",
       "</style>\n",
       "<table border=\"1\" class=\"dataframe\">\n",
       "  <thead>\n",
       "    <tr style=\"text-align: right;\">\n",
       "      <th></th>\n",
       "      <th>App</th>\n",
       "      <th>Category</th>\n",
       "      <th>Rating</th>\n",
       "      <th>Reviews</th>\n",
       "      <th>Size</th>\n",
       "      <th>Installs</th>\n",
       "      <th>Type</th>\n",
       "      <th>Price</th>\n",
       "      <th>Price_Category</th>\n",
       "      <th>Suggestion</th>\n",
       "    </tr>\n",
       "  </thead>\n",
       "  <tbody>\n",
       "    <tr>\n",
       "      <th>0</th>\n",
       "      <td>TurboScan: scan documents and receipts in PDF</td>\n",
       "      <td>BUSINESS</td>\n",
       "      <td>4.7</td>\n",
       "      <td>11442</td>\n",
       "      <td>6.8M</td>\n",
       "      <td>100,000+</td>\n",
       "      <td>Paid</td>\n",
       "      <td>4.99</td>\n",
       "      <td>Cheap</td>\n",
       "      <td>No Impact</td>\n",
       "    </tr>\n",
       "    <tr>\n",
       "      <th>1</th>\n",
       "      <td>Tiny Scanner Pro: PDF Doc Scan</td>\n",
       "      <td>BUSINESS</td>\n",
       "      <td>4.8</td>\n",
       "      <td>10295</td>\n",
       "      <td>39M</td>\n",
       "      <td>100,000+</td>\n",
       "      <td>Paid</td>\n",
       "      <td>4.99</td>\n",
       "      <td>Cheap</td>\n",
       "      <td>No Impact</td>\n",
       "    </tr>\n",
       "    <tr>\n",
       "      <th>2</th>\n",
       "      <td>TurboScan: scan documents and receipts in PDF</td>\n",
       "      <td>BUSINESS</td>\n",
       "      <td>4.7</td>\n",
       "      <td>11442</td>\n",
       "      <td>6.8M</td>\n",
       "      <td>100,000+</td>\n",
       "      <td>Paid</td>\n",
       "      <td>4.99</td>\n",
       "      <td>Cheap</td>\n",
       "      <td>No Impact</td>\n",
       "    </tr>\n",
       "    <tr>\n",
       "      <th>3</th>\n",
       "      <td>Tiny Scanner Pro: PDF Doc Scan</td>\n",
       "      <td>BUSINESS</td>\n",
       "      <td>4.8</td>\n",
       "      <td>10295</td>\n",
       "      <td>39M</td>\n",
       "      <td>100,000+</td>\n",
       "      <td>Paid</td>\n",
       "      <td>4.99</td>\n",
       "      <td>Cheap</td>\n",
       "      <td>No Impact</td>\n",
       "    </tr>\n",
       "    <tr>\n",
       "      <th>4</th>\n",
       "      <td>Puffin Browser Pro</td>\n",
       "      <td>COMMUNICATION</td>\n",
       "      <td>4.0</td>\n",
       "      <td>18247</td>\n",
       "      <td>Varies with device</td>\n",
       "      <td>100,000+</td>\n",
       "      <td>Paid</td>\n",
       "      <td>3.99</td>\n",
       "      <td>Cheap</td>\n",
       "      <td>No Impact</td>\n",
       "    </tr>\n",
       "    <tr>\n",
       "      <th>5</th>\n",
       "      <td>Moco+ - Chat, Meet People</td>\n",
       "      <td>DATING</td>\n",
       "      <td>4.2</td>\n",
       "      <td>1545</td>\n",
       "      <td>Varies with device</td>\n",
       "      <td>10,000+</td>\n",
       "      <td>Paid</td>\n",
       "      <td>3.99</td>\n",
       "      <td>Cheap</td>\n",
       "      <td>No Impact</td>\n",
       "    </tr>\n",
       "    <tr>\n",
       "      <th>6</th>\n",
       "      <td>Calculator</td>\n",
       "      <td>DATING</td>\n",
       "      <td>2.6</td>\n",
       "      <td>57</td>\n",
       "      <td>6.2M</td>\n",
       "      <td>1,000+</td>\n",
       "      <td>Paid</td>\n",
       "      <td>6.99</td>\n",
       "      <td>Reasonable</td>\n",
       "      <td>Increase</td>\n",
       "    </tr>\n",
       "    <tr>\n",
       "      <th>7</th>\n",
       "      <td>Truth or Dare Pro</td>\n",
       "      <td>DATING</td>\n",
       "      <td>NaN</td>\n",
       "      <td>0</td>\n",
       "      <td>20M</td>\n",
       "      <td>50+</td>\n",
       "      <td>Paid</td>\n",
       "      <td>1.49</td>\n",
       "      <td>Cheap</td>\n",
       "      <td>Increase</td>\n",
       "    </tr>\n",
       "    <tr>\n",
       "      <th>8</th>\n",
       "      <td>Private Dating, Hide App- Blue for PrivacyHider</td>\n",
       "      <td>DATING</td>\n",
       "      <td>NaN</td>\n",
       "      <td>0</td>\n",
       "      <td>18k</td>\n",
       "      <td>100+</td>\n",
       "      <td>Paid</td>\n",
       "      <td>2.99</td>\n",
       "      <td>Cheap</td>\n",
       "      <td>No Impact</td>\n",
       "    </tr>\n",
       "    <tr>\n",
       "      <th>9</th>\n",
       "      <td>Ad Blocker for SayHi</td>\n",
       "      <td>DATING</td>\n",
       "      <td>NaN</td>\n",
       "      <td>4</td>\n",
       "      <td>1.2M</td>\n",
       "      <td>100+</td>\n",
       "      <td>Paid</td>\n",
       "      <td>3.99</td>\n",
       "      <td>Cheap</td>\n",
       "      <td>No Impact</td>\n",
       "    </tr>\n",
       "    <tr>\n",
       "      <th>10</th>\n",
       "      <td>AMBW Dating App: Asian Men Black Women Interra...</td>\n",
       "      <td>DATING</td>\n",
       "      <td>3.5</td>\n",
       "      <td>2</td>\n",
       "      <td>17M</td>\n",
       "      <td>100+</td>\n",
       "      <td>Paid</td>\n",
       "      <td>7.99</td>\n",
       "      <td>Reasonable</td>\n",
       "      <td>Increase</td>\n",
       "    </tr>\n",
       "    <tr>\n",
       "      <th>11</th>\n",
       "      <td>Moco+ - Chat, Meet People</td>\n",
       "      <td>DATING</td>\n",
       "      <td>4.2</td>\n",
       "      <td>1546</td>\n",
       "      <td>Varies with device</td>\n",
       "      <td>10,000+</td>\n",
       "      <td>Paid</td>\n",
       "      <td>3.99</td>\n",
       "      <td>Cheap</td>\n",
       "      <td>No Impact</td>\n",
       "    </tr>\n",
       "    <tr>\n",
       "      <th>12</th>\n",
       "      <td>Sago Mini Hat Maker</td>\n",
       "      <td>EDUCATION</td>\n",
       "      <td>4.9</td>\n",
       "      <td>11</td>\n",
       "      <td>63M</td>\n",
       "      <td>1,000+</td>\n",
       "      <td>Paid</td>\n",
       "      <td>3.99</td>\n",
       "      <td>Cheap</td>\n",
       "      <td>No Impact</td>\n",
       "    </tr>\n",
       "    <tr>\n",
       "      <th>13</th>\n",
       "      <td>Fuzzy Numbers: Pre-K Number Foundation</td>\n",
       "      <td>EDUCATION</td>\n",
       "      <td>4.7</td>\n",
       "      <td>21</td>\n",
       "      <td>44M</td>\n",
       "      <td>1,000+</td>\n",
       "      <td>Paid</td>\n",
       "      <td>5.99</td>\n",
       "      <td>Reasonable</td>\n",
       "      <td>Increase</td>\n",
       "    </tr>\n",
       "    <tr>\n",
       "      <th>14</th>\n",
       "      <td>Toca Life: City</td>\n",
       "      <td>EDUCATION</td>\n",
       "      <td>4.7</td>\n",
       "      <td>31085</td>\n",
       "      <td>24M</td>\n",
       "      <td>500,000+</td>\n",
       "      <td>Paid</td>\n",
       "      <td>3.99</td>\n",
       "      <td>Cheap</td>\n",
       "      <td>No Impact</td>\n",
       "    </tr>\n",
       "    <tr>\n",
       "      <th>15</th>\n",
       "      <td>Toca Life: Hospital</td>\n",
       "      <td>EDUCATION</td>\n",
       "      <td>4.7</td>\n",
       "      <td>3528</td>\n",
       "      <td>24M</td>\n",
       "      <td>100,000+</td>\n",
       "      <td>Paid</td>\n",
       "      <td>3.99</td>\n",
       "      <td>Cheap</td>\n",
       "      <td>No Impact</td>\n",
       "    </tr>\n",
       "    <tr>\n",
       "      <th>16</th>\n",
       "      <td>My Talking Pet</td>\n",
       "      <td>ENTERTAINMENT</td>\n",
       "      <td>4.6</td>\n",
       "      <td>6238</td>\n",
       "      <td>Varies with device</td>\n",
       "      <td>100,000+</td>\n",
       "      <td>Paid</td>\n",
       "      <td>4.99</td>\n",
       "      <td>Cheap</td>\n",
       "      <td>No Impact</td>\n",
       "    </tr>\n",
       "    <tr>\n",
       "      <th>17</th>\n",
       "      <td>Meme Generator</td>\n",
       "      <td>ENTERTAINMENT</td>\n",
       "      <td>4.6</td>\n",
       "      <td>3771</td>\n",
       "      <td>53M</td>\n",
       "      <td>100,000+</td>\n",
       "      <td>Paid</td>\n",
       "      <td>2.99</td>\n",
       "      <td>Cheap</td>\n",
       "      <td>No Impact</td>\n",
       "    </tr>\n",
       "    <tr>\n",
       "      <th>18</th>\n",
       "      <td>My CookBook Pro (Ad Free)</td>\n",
       "      <td>FOOD_AND_DRINK</td>\n",
       "      <td>4.6</td>\n",
       "      <td>2129</td>\n",
       "      <td>Varies with device</td>\n",
       "      <td>10,000+</td>\n",
       "      <td>Paid</td>\n",
       "      <td>3.49</td>\n",
       "      <td>Cheap</td>\n",
       "      <td>No Impact</td>\n",
       "    </tr>\n",
       "    <tr>\n",
       "      <th>19</th>\n",
       "      <td>Paprika Recipe Manager</td>\n",
       "      <td>FOOD_AND_DRINK</td>\n",
       "      <td>4.1</td>\n",
       "      <td>1268</td>\n",
       "      <td>2.3M</td>\n",
       "      <td>50,000+</td>\n",
       "      <td>Paid</td>\n",
       "      <td>4.99</td>\n",
       "      <td>Cheap</td>\n",
       "      <td>No Impact</td>\n",
       "    </tr>\n",
       "  </tbody>\n",
       "</table>\n",
       "</div>"
      ],
      "text/plain": [
       "                                                  App        Category Rating  \\\n",
       "0       TurboScan: scan documents and receipts in PDF        BUSINESS    4.7   \n",
       "1                      Tiny Scanner Pro: PDF Doc Scan        BUSINESS    4.8   \n",
       "2       TurboScan: scan documents and receipts in PDF        BUSINESS    4.7   \n",
       "3                      Tiny Scanner Pro: PDF Doc Scan        BUSINESS    4.8   \n",
       "4                                  Puffin Browser Pro   COMMUNICATION    4.0   \n",
       "5                           Moco+ - Chat, Meet People          DATING    4.2   \n",
       "6                                          Calculator          DATING    2.6   \n",
       "7                                   Truth or Dare Pro          DATING    NaN   \n",
       "8     Private Dating, Hide App- Blue for PrivacyHider          DATING    NaN   \n",
       "9                                Ad Blocker for SayHi          DATING    NaN   \n",
       "10  AMBW Dating App: Asian Men Black Women Interra...          DATING    3.5   \n",
       "11                          Moco+ - Chat, Meet People          DATING    4.2   \n",
       "12                                Sago Mini Hat Maker       EDUCATION    4.9   \n",
       "13             Fuzzy Numbers: Pre-K Number Foundation       EDUCATION    4.7   \n",
       "14                                    Toca Life: City       EDUCATION    4.7   \n",
       "15                                Toca Life: Hospital       EDUCATION    4.7   \n",
       "16                                     My Talking Pet   ENTERTAINMENT    4.6   \n",
       "17                                     Meme Generator   ENTERTAINMENT    4.6   \n",
       "18                          My CookBook Pro (Ad Free)  FOOD_AND_DRINK    4.6   \n",
       "19                             Paprika Recipe Manager  FOOD_AND_DRINK    4.1   \n",
       "\n",
       "   Reviews                Size  Installs  Type  Price Price_Category  \\\n",
       "0    11442                6.8M  100,000+  Paid   4.99          Cheap   \n",
       "1    10295                 39M  100,000+  Paid   4.99          Cheap   \n",
       "2    11442                6.8M  100,000+  Paid   4.99          Cheap   \n",
       "3    10295                 39M  100,000+  Paid   4.99          Cheap   \n",
       "4    18247  Varies with device  100,000+  Paid   3.99          Cheap   \n",
       "5     1545  Varies with device   10,000+  Paid   3.99          Cheap   \n",
       "6       57                6.2M    1,000+  Paid   6.99     Reasonable   \n",
       "7        0                 20M       50+  Paid   1.49          Cheap   \n",
       "8        0                 18k      100+  Paid   2.99          Cheap   \n",
       "9        4                1.2M      100+  Paid   3.99          Cheap   \n",
       "10       2                 17M      100+  Paid   7.99     Reasonable   \n",
       "11    1546  Varies with device   10,000+  Paid   3.99          Cheap   \n",
       "12      11                 63M    1,000+  Paid   3.99          Cheap   \n",
       "13      21                 44M    1,000+  Paid   5.99     Reasonable   \n",
       "14   31085                 24M  500,000+  Paid   3.99          Cheap   \n",
       "15    3528                 24M  100,000+  Paid   3.99          Cheap   \n",
       "16    6238  Varies with device  100,000+  Paid   4.99          Cheap   \n",
       "17    3771                 53M  100,000+  Paid   2.99          Cheap   \n",
       "18    2129  Varies with device   10,000+  Paid   3.49          Cheap   \n",
       "19    1268                2.3M   50,000+  Paid   4.99          Cheap   \n",
       "\n",
       "   Suggestion  \n",
       "0   No Impact  \n",
       "1   No Impact  \n",
       "2   No Impact  \n",
       "3   No Impact  \n",
       "4   No Impact  \n",
       "5   No Impact  \n",
       "6    Increase  \n",
       "7    Increase  \n",
       "8   No Impact  \n",
       "9   No Impact  \n",
       "10   Increase  \n",
       "11  No Impact  \n",
       "12  No Impact  \n",
       "13   Increase  \n",
       "14  No Impact  \n",
       "15  No Impact  \n",
       "16  No Impact  \n",
       "17  No Impact  \n",
       "18  No Impact  \n",
       "19  No Impact  "
      ]
     },
     "execution_count": 47,
     "metadata": {},
     "output_type": "execute_result"
    }
   ],
   "source": [
    "paid.head(20)"
   ]
  },
  {
   "cell_type": "markdown",
   "id": "fffb8d5b",
   "metadata": {},
   "source": [
    "$\\color{darkblue}{\\text{5. Suggest Apps in which price needs to be increased}}$"
   ]
  },
  {
   "cell_type": "code",
   "execution_count": 59,
   "id": "4c2cb346",
   "metadata": {},
   "outputs": [
    {
     "data": {
      "text/plain": [
       "Increase     419\n",
       "No Impact    357\n",
       "Name: Suggestion, dtype: int64"
      ]
     },
     "execution_count": 59,
     "metadata": {},
     "output_type": "execute_result"
    }
   ],
   "source": [
    "paid.Suggestion.value_counts()  # check how many apps are thier to increase price"
   ]
  },
  {
   "cell_type": "markdown",
   "id": "59e8e996",
   "metadata": {},
   "source": [
    "$\\color{green}{\\text{We need to increase the price of 419 Apps}}$"
   ]
  },
  {
   "cell_type": "code",
   "execution_count": 60,
   "id": "c4c6ee46",
   "metadata": {},
   "outputs": [],
   "source": [
    "final_data = paid[paid[\"Suggestion\"] == \"Increase\"]  # store data into final_data variable"
   ]
  },
  {
   "cell_type": "code",
   "execution_count": 63,
   "id": "245f4c49",
   "metadata": {},
   "outputs": [
    {
     "data": {
      "text/plain": [
       "Increase    419\n",
       "Name: Suggestion, dtype: int64"
      ]
     },
     "execution_count": 63,
     "metadata": {},
     "output_type": "execute_result"
    }
   ],
   "source": [
    "final_data[\"Suggestion\"].value_counts() # check"
   ]
  },
  {
   "cell_type": "code",
   "execution_count": 64,
   "id": "627815c6",
   "metadata": {},
   "outputs": [],
   "source": [
    "final_data.to_csv(\"final_data.csv\", index = False)  # Export final_data to csv file"
   ]
  },
  {
   "cell_type": "markdown",
   "id": "f8561235",
   "metadata": {},
   "source": [
    "# $\\color{darkblue}{\\text{Conclusion:}}$\n"
   ]
  },
  {
   "cell_type": "markdown",
   "id": "55695c66",
   "metadata": {},
   "source": [
    "$\\color{green}{\\text{1. There are 419 apps whose price needs to be increased}}$"
   ]
  },
  {
   "cell_type": "markdown",
   "id": "75d7ba92",
   "metadata": {},
   "source": [
    "$\\color{green}{\\text{2. For Cheap price should not be more than its mean value i.e. 2.59}}$"
   ]
  },
  {
   "cell_type": "markdown",
   "id": "70fd53a4",
   "metadata": {},
   "source": [
    "$\\color{green}{\\text{3. For Reasonable price should not be more than its mean value i.e. 12.87}}$"
   ]
  },
  {
   "cell_type": "code",
   "execution_count": null,
   "id": "954719d9",
   "metadata": {},
   "outputs": [],
   "source": []
  }
 ],
 "metadata": {
  "kernelspec": {
   "display_name": "Python 3",
   "language": "python",
   "name": "python3"
  },
  "language_info": {
   "codemirror_mode": {
    "name": "ipython",
    "version": 3
   },
   "file_extension": ".py",
   "mimetype": "text/x-python",
   "name": "python",
   "nbconvert_exporter": "python",
   "pygments_lexer": "ipython3",
   "version": "3.8.8"
  }
 },
 "nbformat": 4,
 "nbformat_minor": 5
}
